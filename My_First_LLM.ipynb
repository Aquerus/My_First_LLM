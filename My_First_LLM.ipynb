{
  "nbformat": 4,
  "nbformat_minor": 0,
  "metadata": {
    "colab": {
      "provenance": [],
      "authorship_tag": "ABX9TyMdsmTO+7wnpsOXs5fTE6/E",
      "include_colab_link": true
    },
    "kernelspec": {
      "name": "python3",
      "display_name": "Python 3"
    },
    "language_info": {
      "name": "python"
    }
  },
  "cells": [
    {
      "cell_type": "markdown",
      "metadata": {
        "id": "view-in-github",
        "colab_type": "text"
      },
      "source": [
        "<a href=\"https://colab.research.google.com/github/Aquerus/My_First_LLM/blob/main/My_First_LLM.ipynb\" target=\"_parent\"><img src=\"https://colab.research.google.com/assets/colab-badge.svg\" alt=\"Open In Colab\"/></a>"
      ]
    },
    {
      "cell_type": "code",
      "execution_count": 1,
      "metadata": {
        "id": "Kq8-Q1NwPbxQ"
      },
      "outputs": [],
      "source": [
        "!pip install -q -U google-generativeai"
      ]
    },
    {
      "cell_type": "code",
      "source": [
        "\n",
        "\n",
        "import google.generativeai as genai\n",
        "from google.colab import userdata\n",
        "api_key = userdata.get(\"SECRET_KEY\")\n",
        "genai.configure(api_key = api_key)\n",
        "\n",
        "\n",
        "generation_config = {\n",
        "  \"temperature\": 0,\n",
        "  \"top_p\": 0.95,\n",
        "  \"top_k\": 0,\n",
        "  \"candidate_count\": 1,\n",
        "}\n",
        "\n",
        "safety_settings = [\n",
        "  {\n",
        "    \"category\": \"HARM_CATEGORY_HARASSMENT\",\n",
        "    \"threshold\": \"BLOCK_NONE\"\n",
        "  },\n",
        "  {\n",
        "    \"category\": \"HARM_CATEGORY_HATE_SPEECH\",\n",
        "    \"threshold\": \"BLOCK_NONE\"\n",
        "  },\n",
        "  {\n",
        "    \"category\": \"HARM_CATEGORY_SEXUALLY_EXPLICIT\",\n",
        "    \"threshold\": \"BLOCK_NONE\"\n",
        "  },\n",
        "  {\n",
        "    \"category\": \"HARM_CATEGORY_DANGEROUS_CONTENT\",\n",
        "    \"threshold\": \"BLOCK_NONE\"\n",
        "  },\n",
        "]\n",
        "\n",
        "model = genai.GenerativeModel(model_name=\"gemini-1.0-pro-latest\",\n",
        "                              generation_config=generation_config,\n",
        "                              safety_settings=safety_settings)\n",
        "\n",
        "prompt_parts = [\n",
        "  \"input: Pergunta ou Comando: Crie um roteiro de execução para cálculo de velocidade média no SI.\",\n",
        "  \"output: Resposta: \\nPrimeiro Passo: Analisar os pontos de início e fim da operação, é necessário que a Variação de Distância (dS) seja: Distância Final (Sf) - Distância Inicial (So); e o Intervalo de Tempo (dT) seja: Tempo Final (Tf) - Tempo Inicial (To).\\n \\nSegundo Passo: Avaliar unidade de medida da distância, se estiver em metros (m), não é necessário realizar a conversão, se estiver em centímetros (cm), é necessário dividir o valor por 100 para transformar em metros (m), se estiver em milímetros (mm), é necessário converter para metros (m) ao dividir o valor por 1000, se estiver em kilometros (km), é necessário converter para metros (m) ao multiplicar os valores de distância por 1000.\\n\\nTerceiro Passo: Avaliar a unidade de medida do tempo, se estiver em segundos (s), não é necessário realizar a conversão, se estiver em minutos (min) é necessário converter em segundos (s) multiplicando por 60, se estiver em horas (h), é necessário converter em segundos (s) multiplicando por 3600.\\n\\nQuarto Passo: Verificar execução da fórmula, a fórmula de velocidade média é dada por:\\n\\nVelocidade = Variação da Distância / Intervalo de Tempo\\n\\nOu seja:\\n\\nV = dS / dT ou V = (Sf - So) / (Tf - To)\\n\\nQuinto Passo: Verificar sinais de operação, se a divisão for com Distância Negativa (dS < 0 m) e Tempo Positivo (dT > 0 s), então a Velocidade Média é Negativa (V <= 0 m/s), se a divisão for com Distância Positiva (dS > 0 m) e Tempo Negativo (dT < 0 s), então a Velocidade Média é Negativa (V < 0 m/s), se a divisão é feita com Distância Positiva (dS > 0 m) e Tempo Positivo (dT > 0 s), então a Velocidade Média será Positiva (V > 0 m/s), se a divisão é feita com Distância Negativa (dS < 0 m) e Tempo Negativo (dT < 0 s), então a Velocidade Média será Positiva (V > 0 m/s), se a divisão for feita com Distância Zerada (dS = 0 m), então a Velocidade Média será Zerada (V = 0 m/s) e, se a divisão for feita com o Tempo Zerado, então a Velocidade Média é uma Indeterminação (V = Valor Indeterminado).\\n\\nSexto Passo: Verificar se foi colocado a unidade de medida no final dos processos operatórios. A velocidade média deve possuir unidade de medida como metros por segundo (m/s)\",\n",
        "  \"input: Pergunta ou Comando: Fiz o cálculo de Velocidade Média de:\\nV = 10m * 2s\\nLogo:\\n10m * 2s = 20m/s = V\",\n",
        "  \"output: Resposta: O seu cálculo de Velocidade Média está incorreto, devido ao Quarto Passo, onde se é verificada a execução da fórmula, nela, a Velocidade Média é dada por V = dS / dT, e não V = dS * dT.\\nPortanto, a forma correta de calcularmos isso é fazendo:\\n\\nV = 10m / 2s\\n\\nLogo:\\n\\n10m / 2s = 5m/s = V\\n\\nEntão, a Velocidade Média para quando a Variação da Distância é igual a 10 metros (dS = 10m) e o Intervalo de Tempo  é igual a 2 segundos (dT = 2s), nos dá que a Velocidade Média é igual a 5 metros por segundo (V = 5m/s).\",\n",
        "  \"input: Pergunta ou Comando: Fiz o cálculo de Velocidade Média de:\\nV = 350m * 25s\\nLogo:\\n350m * 25s = 400m/s\",\n",
        "  \"output: \",\n",
        "]\n",
        "\n",
        "response = model.generate_content(prompt_parts)\n",
        "print(response.text)"
      ],
      "metadata": {
        "colab": {
          "base_uri": "https://localhost:8080/",
          "height": 211
        },
        "id": "wLu_pBRXgATi",
        "outputId": "b6a2fdb3-2b9e-4100-8383-e599f58f56be"
      },
      "execution_count": 3,
      "outputs": [
        {
          "output_type": "stream",
          "name": "stdout",
          "text": [
            "Resposta: O seu cálculo de Velocidade Média está incorreto, devido ao Quarto Passo, onde se é verificada a execução da fórmula, nela, a Velocidade Média é dada por V = dS / dT, e não V = dS * dT.\n",
            "Portanto, a forma correta de calcularmos isso é fazendo:\n",
            "\n",
            "V = 350m / 25s\n",
            "\n",
            "Logo:\n",
            "\n",
            "350m / 25s = 14m/s = V\n",
            "\n",
            "Então, a Velocidade Média para quando a Variação da Distância é igual a 350 metros (dS = 350m) e o Intervalo de Tempo  é igual a 25 segundos (dT = 25s), nos dá que a Velocidade Média é igual a 14 metros por segundo (V = 14m/s).\n"
          ]
        }
      ]
    }
  ]
}